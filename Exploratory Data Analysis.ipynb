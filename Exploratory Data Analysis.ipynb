{
 "cells": [
  {
   "cell_type": "code",
   "execution_count": 1,
   "id": "dee5c98d-493f-473e-b38d-e3840997728c",
   "metadata": {},
   "outputs": [],
   "source": [
    "import numpy as np\n",
    "import pandas as pd\n",
    "\n",
    "import matplotlib.pyplot as plt\n",
    "%matplotlib inline\n",
    "import seaborn as sns\n",
    "\n",
    "import scipy.stats as stats"
   ]
  },
  {
   "cell_type": "code",
   "execution_count": 2,
   "id": "c2561e65-9af1-4fe1-8be1-35ac6a807cb4",
   "metadata": {},
   "outputs": [],
   "source": [
    "df = pd.read_csv('C://Users//ANIL KUMAR//OneDrive//Desktop//NHANES.csv')"
   ]
  },
  {
   "cell_type": "code",
   "execution_count": 3,
   "id": "01166d1c-0b43-4a7a-8236-de7687241fdf",
   "metadata": {},
   "outputs": [
    {
     "data": {
      "text/html": [
       "<div>\n",
       "<style scoped>\n",
       "    .dataframe tbody tr th:only-of-type {\n",
       "        vertical-align: middle;\n",
       "    }\n",
       "\n",
       "    .dataframe tbody tr th {\n",
       "        vertical-align: top;\n",
       "    }\n",
       "\n",
       "    .dataframe thead th {\n",
       "        text-align: right;\n",
       "    }\n",
       "</style>\n",
       "<table border=\"1\" class=\"dataframe\">\n",
       "  <thead>\n",
       "    <tr style=\"text-align: right;\">\n",
       "      <th></th>\n",
       "      <th>SEQN</th>\n",
       "      <th>ALQ101</th>\n",
       "      <th>ALQ110</th>\n",
       "      <th>ALQ130</th>\n",
       "      <th>SMQ020</th>\n",
       "      <th>RIAGENDR</th>\n",
       "      <th>RIDAGEYR</th>\n",
       "      <th>RIDRETH1</th>\n",
       "      <th>DMDCITZN</th>\n",
       "      <th>DMDEDUC2</th>\n",
       "      <th>...</th>\n",
       "      <th>BPXSY2</th>\n",
       "      <th>BPXDI2</th>\n",
       "      <th>BMXWT</th>\n",
       "      <th>BMXHT</th>\n",
       "      <th>BMXBMI</th>\n",
       "      <th>BMXLEG</th>\n",
       "      <th>BMXARML</th>\n",
       "      <th>BMXARMC</th>\n",
       "      <th>BMXWAIST</th>\n",
       "      <th>HIQ210</th>\n",
       "    </tr>\n",
       "  </thead>\n",
       "  <tbody>\n",
       "    <tr>\n",
       "      <th>0</th>\n",
       "      <td>83732</td>\n",
       "      <td>1.0</td>\n",
       "      <td>NaN</td>\n",
       "      <td>1.0</td>\n",
       "      <td>1</td>\n",
       "      <td>1</td>\n",
       "      <td>62</td>\n",
       "      <td>3</td>\n",
       "      <td>1.0</td>\n",
       "      <td>5.0</td>\n",
       "      <td>...</td>\n",
       "      <td>124.0</td>\n",
       "      <td>64.0</td>\n",
       "      <td>94.8</td>\n",
       "      <td>184.5</td>\n",
       "      <td>27.8</td>\n",
       "      <td>43.3</td>\n",
       "      <td>43.6</td>\n",
       "      <td>35.9</td>\n",
       "      <td>101.1</td>\n",
       "      <td>2.0</td>\n",
       "    </tr>\n",
       "    <tr>\n",
       "      <th>1</th>\n",
       "      <td>83733</td>\n",
       "      <td>1.0</td>\n",
       "      <td>NaN</td>\n",
       "      <td>6.0</td>\n",
       "      <td>1</td>\n",
       "      <td>1</td>\n",
       "      <td>53</td>\n",
       "      <td>3</td>\n",
       "      <td>2.0</td>\n",
       "      <td>3.0</td>\n",
       "      <td>...</td>\n",
       "      <td>140.0</td>\n",
       "      <td>88.0</td>\n",
       "      <td>90.4</td>\n",
       "      <td>171.4</td>\n",
       "      <td>30.8</td>\n",
       "      <td>38.0</td>\n",
       "      <td>40.0</td>\n",
       "      <td>33.2</td>\n",
       "      <td>107.9</td>\n",
       "      <td>NaN</td>\n",
       "    </tr>\n",
       "    <tr>\n",
       "      <th>2</th>\n",
       "      <td>83734</td>\n",
       "      <td>1.0</td>\n",
       "      <td>NaN</td>\n",
       "      <td>NaN</td>\n",
       "      <td>1</td>\n",
       "      <td>1</td>\n",
       "      <td>78</td>\n",
       "      <td>3</td>\n",
       "      <td>1.0</td>\n",
       "      <td>3.0</td>\n",
       "      <td>...</td>\n",
       "      <td>132.0</td>\n",
       "      <td>44.0</td>\n",
       "      <td>83.4</td>\n",
       "      <td>170.1</td>\n",
       "      <td>28.8</td>\n",
       "      <td>35.6</td>\n",
       "      <td>37.0</td>\n",
       "      <td>31.0</td>\n",
       "      <td>116.5</td>\n",
       "      <td>2.0</td>\n",
       "    </tr>\n",
       "    <tr>\n",
       "      <th>3</th>\n",
       "      <td>83735</td>\n",
       "      <td>2.0</td>\n",
       "      <td>1.0</td>\n",
       "      <td>1.0</td>\n",
       "      <td>2</td>\n",
       "      <td>2</td>\n",
       "      <td>56</td>\n",
       "      <td>3</td>\n",
       "      <td>1.0</td>\n",
       "      <td>5.0</td>\n",
       "      <td>...</td>\n",
       "      <td>134.0</td>\n",
       "      <td>68.0</td>\n",
       "      <td>109.8</td>\n",
       "      <td>160.9</td>\n",
       "      <td>42.4</td>\n",
       "      <td>38.5</td>\n",
       "      <td>37.7</td>\n",
       "      <td>38.3</td>\n",
       "      <td>110.1</td>\n",
       "      <td>2.0</td>\n",
       "    </tr>\n",
       "    <tr>\n",
       "      <th>4</th>\n",
       "      <td>83736</td>\n",
       "      <td>2.0</td>\n",
       "      <td>1.0</td>\n",
       "      <td>1.0</td>\n",
       "      <td>2</td>\n",
       "      <td>2</td>\n",
       "      <td>42</td>\n",
       "      <td>4</td>\n",
       "      <td>1.0</td>\n",
       "      <td>4.0</td>\n",
       "      <td>...</td>\n",
       "      <td>114.0</td>\n",
       "      <td>54.0</td>\n",
       "      <td>55.2</td>\n",
       "      <td>164.9</td>\n",
       "      <td>20.3</td>\n",
       "      <td>37.4</td>\n",
       "      <td>36.0</td>\n",
       "      <td>27.2</td>\n",
       "      <td>80.4</td>\n",
       "      <td>2.0</td>\n",
       "    </tr>\n",
       "  </tbody>\n",
       "</table>\n",
       "<p>5 rows × 28 columns</p>\n",
       "</div>"
      ],
      "text/plain": [
       "    SEQN  ALQ101  ALQ110  ALQ130  SMQ020  RIAGENDR  RIDAGEYR  RIDRETH1  \\\n",
       "0  83732     1.0     NaN     1.0       1         1        62         3   \n",
       "1  83733     1.0     NaN     6.0       1         1        53         3   \n",
       "2  83734     1.0     NaN     NaN       1         1        78         3   \n",
       "3  83735     2.0     1.0     1.0       2         2        56         3   \n",
       "4  83736     2.0     1.0     1.0       2         2        42         4   \n",
       "\n",
       "   DMDCITZN  DMDEDUC2  ...  BPXSY2  BPXDI2  BMXWT  BMXHT  BMXBMI  BMXLEG  \\\n",
       "0       1.0       5.0  ...   124.0    64.0   94.8  184.5    27.8    43.3   \n",
       "1       2.0       3.0  ...   140.0    88.0   90.4  171.4    30.8    38.0   \n",
       "2       1.0       3.0  ...   132.0    44.0   83.4  170.1    28.8    35.6   \n",
       "3       1.0       5.0  ...   134.0    68.0  109.8  160.9    42.4    38.5   \n",
       "4       1.0       4.0  ...   114.0    54.0   55.2  164.9    20.3    37.4   \n",
       "\n",
       "   BMXARML  BMXARMC  BMXWAIST  HIQ210  \n",
       "0     43.6     35.9     101.1     2.0  \n",
       "1     40.0     33.2     107.9     NaN  \n",
       "2     37.0     31.0     116.5     2.0  \n",
       "3     37.7     38.3     110.1     2.0  \n",
       "4     36.0     27.2      80.4     2.0  \n",
       "\n",
       "[5 rows x 28 columns]"
      ]
     },
     "execution_count": 3,
     "metadata": {},
     "output_type": "execute_result"
    }
   ],
   "source": [
    "df.head()"
   ]
  },
  {
   "cell_type": "code",
   "execution_count": 4,
   "id": "04d67694-f1d9-4e3c-8b3a-300579e30188",
   "metadata": {},
   "outputs": [],
   "source": [
    "eda = df.loc[: , ['SMQ020' , 'RIAGENDR','RIDAGEYR' , 'DMDMARTL', 'DMDEDUC2' ,'BMXWT', 'BMXBMI' , 'BMXHT' , 'BPXSY1']]"
   ]
  },
  {
   "cell_type": "code",
   "execution_count": 5,
   "id": "08358735-54c5-4341-aa10-ab22c527d62b",
   "metadata": {},
   "outputs": [
    {
     "data": {
      "text/html": [
       "<div>\n",
       "<style scoped>\n",
       "    .dataframe tbody tr th:only-of-type {\n",
       "        vertical-align: middle;\n",
       "    }\n",
       "\n",
       "    .dataframe tbody tr th {\n",
       "        vertical-align: top;\n",
       "    }\n",
       "\n",
       "    .dataframe thead th {\n",
       "        text-align: right;\n",
       "    }\n",
       "</style>\n",
       "<table border=\"1\" class=\"dataframe\">\n",
       "  <thead>\n",
       "    <tr style=\"text-align: right;\">\n",
       "      <th></th>\n",
       "      <th>SMQ020</th>\n",
       "      <th>RIAGENDR</th>\n",
       "      <th>RIDAGEYR</th>\n",
       "      <th>DMDMARTL</th>\n",
       "      <th>DMDEDUC2</th>\n",
       "      <th>BMXWT</th>\n",
       "      <th>BMXBMI</th>\n",
       "      <th>BMXHT</th>\n",
       "      <th>BPXSY1</th>\n",
       "    </tr>\n",
       "  </thead>\n",
       "  <tbody>\n",
       "    <tr>\n",
       "      <th>0</th>\n",
       "      <td>1</td>\n",
       "      <td>1</td>\n",
       "      <td>62</td>\n",
       "      <td>1.0</td>\n",
       "      <td>5.0</td>\n",
       "      <td>94.8</td>\n",
       "      <td>27.8</td>\n",
       "      <td>184.5</td>\n",
       "      <td>128.0</td>\n",
       "    </tr>\n",
       "    <tr>\n",
       "      <th>1</th>\n",
       "      <td>1</td>\n",
       "      <td>1</td>\n",
       "      <td>53</td>\n",
       "      <td>3.0</td>\n",
       "      <td>3.0</td>\n",
       "      <td>90.4</td>\n",
       "      <td>30.8</td>\n",
       "      <td>171.4</td>\n",
       "      <td>146.0</td>\n",
       "    </tr>\n",
       "    <tr>\n",
       "      <th>2</th>\n",
       "      <td>1</td>\n",
       "      <td>1</td>\n",
       "      <td>78</td>\n",
       "      <td>1.0</td>\n",
       "      <td>3.0</td>\n",
       "      <td>83.4</td>\n",
       "      <td>28.8</td>\n",
       "      <td>170.1</td>\n",
       "      <td>138.0</td>\n",
       "    </tr>\n",
       "    <tr>\n",
       "      <th>3</th>\n",
       "      <td>2</td>\n",
       "      <td>2</td>\n",
       "      <td>56</td>\n",
       "      <td>6.0</td>\n",
       "      <td>5.0</td>\n",
       "      <td>109.8</td>\n",
       "      <td>42.4</td>\n",
       "      <td>160.9</td>\n",
       "      <td>132.0</td>\n",
       "    </tr>\n",
       "    <tr>\n",
       "      <th>4</th>\n",
       "      <td>2</td>\n",
       "      <td>2</td>\n",
       "      <td>42</td>\n",
       "      <td>3.0</td>\n",
       "      <td>4.0</td>\n",
       "      <td>55.2</td>\n",
       "      <td>20.3</td>\n",
       "      <td>164.9</td>\n",
       "      <td>100.0</td>\n",
       "    </tr>\n",
       "  </tbody>\n",
       "</table>\n",
       "</div>"
      ],
      "text/plain": [
       "   SMQ020  RIAGENDR  RIDAGEYR  DMDMARTL  DMDEDUC2  BMXWT  BMXBMI  BMXHT  \\\n",
       "0       1         1        62       1.0       5.0   94.8    27.8  184.5   \n",
       "1       1         1        53       3.0       3.0   90.4    30.8  171.4   \n",
       "2       1         1        78       1.0       3.0   83.4    28.8  170.1   \n",
       "3       2         2        56       6.0       5.0  109.8    42.4  160.9   \n",
       "4       2         2        42       3.0       4.0   55.2    20.3  164.9   \n",
       "\n",
       "   BPXSY1  \n",
       "0   128.0  \n",
       "1   146.0  \n",
       "2   138.0  \n",
       "3   132.0  \n",
       "4   100.0  "
      ]
     },
     "execution_count": 5,
     "metadata": {},
     "output_type": "execute_result"
    }
   ],
   "source": [
    "eda.head()"
   ]
  },
  {
   "cell_type": "code",
   "execution_count": 6,
   "id": "69de71bb-d0c9-4595-92ea-82781e36062b",
   "metadata": {},
   "outputs": [],
   "source": [
    "cols = {'SMQ020': 'Smoking' , 'RIAGENDR': 'Gende','RIDAGEYR': 'Age' , 'DMDMARTL': 'Martial statues', 'DMDEDUC2': 'Education level' ,'BMXWT':'Weight', 'BMXBMI': 'BMI' , 'BMXHT': 'Height' , 'BPXSY1': 'Systolic Blood Preasure'}"
   ]
  },
  {
   "cell_type": "code",
   "execution_count": 7,
   "id": "52777779-e9d7-4b7d-b94d-efd9e623dee4",
   "metadata": {
    "scrolled": true
   },
   "outputs": [
    {
     "data": {
      "text/plain": [
       "{'SMQ020': 'Smoking',\n",
       " 'RIAGENDR': 'Gende',\n",
       " 'RIDAGEYR': 'Age',\n",
       " 'DMDMARTL': 'Martial statues',\n",
       " 'DMDEDUC2': 'Education level',\n",
       " 'BMXWT': 'Weight',\n",
       " 'BMXBMI': 'BMI',\n",
       " 'BMXHT': 'Height',\n",
       " 'BPXSY1': 'Systolic Blood Preasure'}"
      ]
     },
     "execution_count": 7,
     "metadata": {},
     "output_type": "execute_result"
    }
   ],
   "source": [
    "cols"
   ]
  },
  {
   "cell_type": "code",
   "execution_count": 8,
   "id": "3903db8d-4d2c-4b5e-92b6-52ed908cbd93",
   "metadata": {
    "scrolled": true
   },
   "outputs": [
    {
     "data": {
      "text/html": [
       "<div>\n",
       "<style scoped>\n",
       "    .dataframe tbody tr th:only-of-type {\n",
       "        vertical-align: middle;\n",
       "    }\n",
       "\n",
       "    .dataframe tbody tr th {\n",
       "        vertical-align: top;\n",
       "    }\n",
       "\n",
       "    .dataframe thead th {\n",
       "        text-align: right;\n",
       "    }\n",
       "</style>\n",
       "<table border=\"1\" class=\"dataframe\">\n",
       "  <thead>\n",
       "    <tr style=\"text-align: right;\">\n",
       "      <th></th>\n",
       "      <th>Smoking</th>\n",
       "      <th>Gende</th>\n",
       "      <th>Age</th>\n",
       "      <th>Martial statues</th>\n",
       "      <th>Education level</th>\n",
       "      <th>Weight</th>\n",
       "      <th>BMI</th>\n",
       "      <th>Height</th>\n",
       "      <th>Systolic Blood Preasure</th>\n",
       "    </tr>\n",
       "  </thead>\n",
       "  <tbody>\n",
       "    <tr>\n",
       "      <th>0</th>\n",
       "      <td>1</td>\n",
       "      <td>1</td>\n",
       "      <td>62</td>\n",
       "      <td>1.0</td>\n",
       "      <td>5.0</td>\n",
       "      <td>94.8</td>\n",
       "      <td>27.8</td>\n",
       "      <td>184.5</td>\n",
       "      <td>128.0</td>\n",
       "    </tr>\n",
       "    <tr>\n",
       "      <th>1</th>\n",
       "      <td>1</td>\n",
       "      <td>1</td>\n",
       "      <td>53</td>\n",
       "      <td>3.0</td>\n",
       "      <td>3.0</td>\n",
       "      <td>90.4</td>\n",
       "      <td>30.8</td>\n",
       "      <td>171.4</td>\n",
       "      <td>146.0</td>\n",
       "    </tr>\n",
       "  </tbody>\n",
       "</table>\n",
       "</div>"
      ],
      "text/plain": [
       "   Smoking  Gende  Age  Martial statues  Education level  Weight   BMI  \\\n",
       "0        1      1   62              1.0              5.0    94.8  27.8   \n",
       "1        1      1   53              3.0              3.0    90.4  30.8   \n",
       "\n",
       "   Height  Systolic Blood Preasure  \n",
       "0   184.5                    128.0  \n",
       "1   171.4                    146.0  "
      ]
     },
     "execution_count": 8,
     "metadata": {},
     "output_type": "execute_result"
    }
   ],
   "source": [
    "eda.rename(columns=cols).head(2)"
   ]
  },
  {
   "cell_type": "code",
   "execution_count": 9,
   "id": "1343b9f5-35de-4f20-82fa-9e679e990fec",
   "metadata": {},
   "outputs": [],
   "source": [
    "eda.columns = ['Smoking' , 'Gender' , 'Age' , 'Martial Statues' ,'Education Level' ,'Weight' , 'BMI', 'Height' , 'Systolic Blood Preasure']"
   ]
  },
  {
   "cell_type": "code",
   "execution_count": 10,
   "id": "08926919-175c-4921-a479-e3c057dba319",
   "metadata": {
    "scrolled": true
   },
   "outputs": [
    {
     "data": {
      "text/html": [
       "<div>\n",
       "<style scoped>\n",
       "    .dataframe tbody tr th:only-of-type {\n",
       "        vertical-align: middle;\n",
       "    }\n",
       "\n",
       "    .dataframe tbody tr th {\n",
       "        vertical-align: top;\n",
       "    }\n",
       "\n",
       "    .dataframe thead th {\n",
       "        text-align: right;\n",
       "    }\n",
       "</style>\n",
       "<table border=\"1\" class=\"dataframe\">\n",
       "  <thead>\n",
       "    <tr style=\"text-align: right;\">\n",
       "      <th></th>\n",
       "      <th>Smoking</th>\n",
       "      <th>Gender</th>\n",
       "      <th>Age</th>\n",
       "      <th>Martial Statues</th>\n",
       "      <th>Education Level</th>\n",
       "      <th>Weight</th>\n",
       "      <th>BMI</th>\n",
       "      <th>Height</th>\n",
       "      <th>Systolic Blood Preasure</th>\n",
       "    </tr>\n",
       "  </thead>\n",
       "  <tbody>\n",
       "    <tr>\n",
       "      <th>0</th>\n",
       "      <td>1</td>\n",
       "      <td>1</td>\n",
       "      <td>62</td>\n",
       "      <td>1.0</td>\n",
       "      <td>5.0</td>\n",
       "      <td>94.8</td>\n",
       "      <td>27.8</td>\n",
       "      <td>184.5</td>\n",
       "      <td>128.0</td>\n",
       "    </tr>\n",
       "    <tr>\n",
       "      <th>1</th>\n",
       "      <td>1</td>\n",
       "      <td>1</td>\n",
       "      <td>53</td>\n",
       "      <td>3.0</td>\n",
       "      <td>3.0</td>\n",
       "      <td>90.4</td>\n",
       "      <td>30.8</td>\n",
       "      <td>171.4</td>\n",
       "      <td>146.0</td>\n",
       "    </tr>\n",
       "  </tbody>\n",
       "</table>\n",
       "</div>"
      ],
      "text/plain": [
       "   Smoking  Gender  Age  Martial Statues  Education Level  Weight   BMI  \\\n",
       "0        1       1   62              1.0              5.0    94.8  27.8   \n",
       "1        1       1   53              3.0              3.0    90.4  30.8   \n",
       "\n",
       "   Height  Systolic Blood Preasure  \n",
       "0   184.5                    128.0  \n",
       "1   171.4                    146.0  "
      ]
     },
     "execution_count": 10,
     "metadata": {},
     "output_type": "execute_result"
    }
   ],
   "source": [
    "eda.head(2)"
   ]
  },
  {
   "cell_type": "markdown",
   "id": "1c3cf0e2-3839-4444-a607-3f216ef36c90",
   "metadata": {},
   "source": [
    "# Data Cleaning"
   ]
  },
  {
   "cell_type": "code",
   "execution_count": 12,
   "id": "f56c889a-895d-4365-921b-c7998fef3b60",
   "metadata": {
    "scrolled": true
   },
   "outputs": [
    {
     "data": {
      "text/plain": [
       "Education Level\n",
       "4.0    1621\n",
       "5.0    1366\n",
       "3.0    1186\n",
       "1.0     655\n",
       "2.0     643\n",
       "9.0       3\n",
       "Name: count, dtype: int64"
      ]
     },
     "execution_count": 12,
     "metadata": {},
     "output_type": "execute_result"
    }
   ],
   "source": [
    "eda['Education Level'].value_counts()"
   ]
  },
  {
   "cell_type": "code",
   "execution_count": 13,
   "id": "d66d7497-4025-4c89-a7a4-e6e574581dcf",
   "metadata": {
    "scrolled": true
   },
   "outputs": [
    {
     "data": {
      "text/plain": [
       "0       PG\n",
       "1    Inter\n",
       "2    Inter\n",
       "3       PG\n",
       "4       UG\n",
       "Name: Education Level, dtype: object"
      ]
     },
     "execution_count": 13,
     "metadata": {},
     "output_type": "execute_result"
    }
   ],
   "source": [
    "eda['Education Level'].apply(lambda x: '6th Class' if x == 1 else ( '10th Class' if x == 2 else ( \n",
    "    'Inter' if x == 3 else ( 'UG' if x == 4 else ( 'PG' if x == 5 else 'Illiteracy'))))).head()"
   ]
  },
  {
   "cell_type": "code",
   "execution_count": 14,
   "id": "d6feebcd-d2f2-408d-acd3-f1845d72914c",
   "metadata": {},
   "outputs": [],
   "source": [
    "el = {2: '6th Class', 3: '10th Class', 4: 'Inter', 5: 'UG', 9: 'PG', 1: 'Illiteracy' }"
   ]
  },
  {
   "cell_type": "code",
   "execution_count": 15,
   "id": "2752d177-0f8f-4f8a-ab5d-a5b1e78cadfa",
   "metadata": {},
   "outputs": [
    {
     "name": "stderr",
     "output_type": "stream",
     "text": [
      "C:\\Users\\ANIL KUMAR\\AppData\\Local\\Temp\\ipykernel_5548\\1824414959.py:1: FutureWarning: A value is trying to be set on a copy of a DataFrame or Series through chained assignment using an inplace method.\n",
      "The behavior will change in pandas 3.0. This inplace method will never work because the intermediate object on which we are setting values always behaves as a copy.\n",
      "\n",
      "For example, when doing 'df[col].method(value, inplace=True)', try using 'df.method({col: value}, inplace=True)' or df[col] = df[col].method(value) instead, to perform the operation inplace on the original object.\n",
      "\n",
      "\n",
      "  eda['Education Level'].replace(el,inplace=True)\n"
     ]
    }
   ],
   "source": [
    "eda['Education Level'].replace(el,inplace=True)"
   ]
  },
  {
   "cell_type": "code",
   "execution_count": 16,
   "id": "7acd44c7-56f8-4e4c-8f69-ecb218ddb2b5",
   "metadata": {
    "scrolled": true
   },
   "outputs": [
    {
     "data": {
      "text/html": [
       "<div>\n",
       "<style scoped>\n",
       "    .dataframe tbody tr th:only-of-type {\n",
       "        vertical-align: middle;\n",
       "    }\n",
       "\n",
       "    .dataframe tbody tr th {\n",
       "        vertical-align: top;\n",
       "    }\n",
       "\n",
       "    .dataframe thead th {\n",
       "        text-align: right;\n",
       "    }\n",
       "</style>\n",
       "<table border=\"1\" class=\"dataframe\">\n",
       "  <thead>\n",
       "    <tr style=\"text-align: right;\">\n",
       "      <th></th>\n",
       "      <th>Smoking</th>\n",
       "      <th>Gender</th>\n",
       "      <th>Age</th>\n",
       "      <th>Martial Statues</th>\n",
       "      <th>Education Level</th>\n",
       "      <th>Weight</th>\n",
       "      <th>BMI</th>\n",
       "      <th>Height</th>\n",
       "      <th>Systolic Blood Preasure</th>\n",
       "    </tr>\n",
       "  </thead>\n",
       "  <tbody>\n",
       "    <tr>\n",
       "      <th>0</th>\n",
       "      <td>1</td>\n",
       "      <td>1</td>\n",
       "      <td>62</td>\n",
       "      <td>1.0</td>\n",
       "      <td>UG</td>\n",
       "      <td>94.8</td>\n",
       "      <td>27.8</td>\n",
       "      <td>184.5</td>\n",
       "      <td>128.0</td>\n",
       "    </tr>\n",
       "    <tr>\n",
       "      <th>1</th>\n",
       "      <td>1</td>\n",
       "      <td>1</td>\n",
       "      <td>53</td>\n",
       "      <td>3.0</td>\n",
       "      <td>10th Class</td>\n",
       "      <td>90.4</td>\n",
       "      <td>30.8</td>\n",
       "      <td>171.4</td>\n",
       "      <td>146.0</td>\n",
       "    </tr>\n",
       "  </tbody>\n",
       "</table>\n",
       "</div>"
      ],
      "text/plain": [
       "   Smoking  Gender  Age  Martial Statues Education Level  Weight   BMI  \\\n",
       "0        1       1   62              1.0              UG    94.8  27.8   \n",
       "1        1       1   53              3.0      10th Class    90.4  30.8   \n",
       "\n",
       "   Height  Systolic Blood Preasure  \n",
       "0   184.5                    128.0  \n",
       "1   171.4                    146.0  "
      ]
     },
     "execution_count": 16,
     "metadata": {},
     "output_type": "execute_result"
    }
   ],
   "source": [
    "eda.head(2)"
   ]
  },
  {
   "cell_type": "code",
   "execution_count": 17,
   "id": "74b9f638-a1ed-4439-b5c5-334f6a6f3b8a",
   "metadata": {},
   "outputs": [
    {
     "data": {
      "text/plain": [
       "Gender\n",
       "2    2976\n",
       "1    2759\n",
       "Name: count, dtype: int64"
      ]
     },
     "execution_count": 17,
     "metadata": {},
     "output_type": "execute_result"
    }
   ],
   "source": [
    "eda['Gender'].value_counts()"
   ]
  },
  {
   "cell_type": "code",
   "execution_count": 18,
   "id": "25fc85d3-5448-4983-a7f7-5cc835cb534d",
   "metadata": {},
   "outputs": [
    {
     "data": {
      "text/plain": [
       "0    Female\n",
       "1    Female\n",
       "Name: Gender, dtype: object"
      ]
     },
     "execution_count": 18,
     "metadata": {},
     "output_type": "execute_result"
    }
   ],
   "source": [
    "eda['Gender'].apply(lambda x: 'Female' if x == 1 else 'Male').head(2)"
   ]
  },
  {
   "cell_type": "code",
   "execution_count": 19,
   "id": "614ade5b-a106-4a97-a76a-e35109fe1c67",
   "metadata": {},
   "outputs": [],
   "source": [
    "gen = {1: 'Female', 2: 'Male'}"
   ]
  },
  {
   "cell_type": "code",
   "execution_count": 20,
   "id": "074209fb-16b0-4048-842f-545cd27430c6",
   "metadata": {},
   "outputs": [
    {
     "name": "stderr",
     "output_type": "stream",
     "text": [
      "C:\\Users\\ANIL KUMAR\\AppData\\Local\\Temp\\ipykernel_5548\\214392425.py:1: FutureWarning: A value is trying to be set on a copy of a DataFrame or Series through chained assignment using an inplace method.\n",
      "The behavior will change in pandas 3.0. This inplace method will never work because the intermediate object on which we are setting values always behaves as a copy.\n",
      "\n",
      "For example, when doing 'df[col].method(value, inplace=True)', try using 'df.method({col: value}, inplace=True)' or df[col] = df[col].method(value) instead, to perform the operation inplace on the original object.\n",
      "\n",
      "\n",
      "  eda['Gender'].replace(gen,inplace=True)\n"
     ]
    }
   ],
   "source": [
    "eda['Gender'].replace(gen,inplace=True)"
   ]
  },
  {
   "cell_type": "code",
   "execution_count": 21,
   "id": "49f21bd9-a80a-40fe-8d11-ee6be04a3bf5",
   "metadata": {},
   "outputs": [
    {
     "data": {
      "text/html": [
       "<div>\n",
       "<style scoped>\n",
       "    .dataframe tbody tr th:only-of-type {\n",
       "        vertical-align: middle;\n",
       "    }\n",
       "\n",
       "    .dataframe tbody tr th {\n",
       "        vertical-align: top;\n",
       "    }\n",
       "\n",
       "    .dataframe thead th {\n",
       "        text-align: right;\n",
       "    }\n",
       "</style>\n",
       "<table border=\"1\" class=\"dataframe\">\n",
       "  <thead>\n",
       "    <tr style=\"text-align: right;\">\n",
       "      <th></th>\n",
       "      <th>Smoking</th>\n",
       "      <th>Gender</th>\n",
       "      <th>Age</th>\n",
       "      <th>Martial Statues</th>\n",
       "      <th>Education Level</th>\n",
       "      <th>Weight</th>\n",
       "      <th>BMI</th>\n",
       "      <th>Height</th>\n",
       "      <th>Systolic Blood Preasure</th>\n",
       "    </tr>\n",
       "  </thead>\n",
       "  <tbody>\n",
       "    <tr>\n",
       "      <th>0</th>\n",
       "      <td>1</td>\n",
       "      <td>Female</td>\n",
       "      <td>62</td>\n",
       "      <td>1.0</td>\n",
       "      <td>UG</td>\n",
       "      <td>94.8</td>\n",
       "      <td>27.8</td>\n",
       "      <td>184.5</td>\n",
       "      <td>128.0</td>\n",
       "    </tr>\n",
       "    <tr>\n",
       "      <th>1</th>\n",
       "      <td>1</td>\n",
       "      <td>Female</td>\n",
       "      <td>53</td>\n",
       "      <td>3.0</td>\n",
       "      <td>10th Class</td>\n",
       "      <td>90.4</td>\n",
       "      <td>30.8</td>\n",
       "      <td>171.4</td>\n",
       "      <td>146.0</td>\n",
       "    </tr>\n",
       "  </tbody>\n",
       "</table>\n",
       "</div>"
      ],
      "text/plain": [
       "   Smoking  Gender  Age  Martial Statues Education Level  Weight   BMI  \\\n",
       "0        1  Female   62              1.0              UG    94.8  27.8   \n",
       "1        1  Female   53              3.0      10th Class    90.4  30.8   \n",
       "\n",
       "   Height  Systolic Blood Preasure  \n",
       "0   184.5                    128.0  \n",
       "1   171.4                    146.0  "
      ]
     },
     "execution_count": 21,
     "metadata": {},
     "output_type": "execute_result"
    }
   ],
   "source": [
    "eda.head(2)"
   ]
  },
  {
   "cell_type": "code",
   "execution_count": 22,
   "id": "9c5f2811-18f6-4343-87bc-284aa42bd539",
   "metadata": {
    "scrolled": true
   },
   "outputs": [
    {
     "data": {
      "text/plain": [
       "Smoking\n",
       "2    3406\n",
       "1    2319\n",
       "9       8\n",
       "7       2\n",
       "Name: count, dtype: int64"
      ]
     },
     "execution_count": 22,
     "metadata": {},
     "output_type": "execute_result"
    }
   ],
   "source": [
    "eda['Smoking'].value_counts()"
   ]
  },
  {
   "cell_type": "code",
   "execution_count": 23,
   "id": "901fb80d-a17d-4ec1-b4c5-2403de83e931",
   "metadata": {
    "scrolled": true
   },
   "outputs": [
    {
     "data": {
      "text/plain": [
       "0    No\n",
       "1    No\n",
       "Name: Smoking, dtype: object"
      ]
     },
     "execution_count": 23,
     "metadata": {},
     "output_type": "execute_result"
    }
   ],
   "source": [
    "eda['Smoking'].apply(lambda x: 'No' if x == 1 else ( 'Yes' if x == 2 else 'Refused')).head(2)"
   ]
  },
  {
   "cell_type": "code",
   "execution_count": 24,
   "id": "3db7a18d-ed62-42f9-a745-5e664b64b6f4",
   "metadata": {},
   "outputs": [],
   "source": [
    "sm = {1: 'No', 2: 'Yes', 7|9: 'Refused'}"
   ]
  },
  {
   "cell_type": "code",
   "execution_count": 25,
   "id": "5e3d45b7-ce06-483f-aa03-aecc2146b06e",
   "metadata": {},
   "outputs": [
    {
     "name": "stderr",
     "output_type": "stream",
     "text": [
      "C:\\Users\\ANIL KUMAR\\AppData\\Local\\Temp\\ipykernel_5548\\3188930335.py:1: FutureWarning: A value is trying to be set on a copy of a DataFrame or Series through chained assignment using an inplace method.\n",
      "The behavior will change in pandas 3.0. This inplace method will never work because the intermediate object on which we are setting values always behaves as a copy.\n",
      "\n",
      "For example, when doing 'df[col].method(value, inplace=True)', try using 'df.method({col: value}, inplace=True)' or df[col] = df[col].method(value) instead, to perform the operation inplace on the original object.\n",
      "\n",
      "\n",
      "  eda['Smoking'].replace(sm,inplace=True)\n"
     ]
    }
   ],
   "source": [
    "eda['Smoking'].replace(sm,inplace=True)"
   ]
  },
  {
   "cell_type": "code",
   "execution_count": 26,
   "id": "a1d8dca6-88d7-4476-b437-4cca758d9d05",
   "metadata": {
    "scrolled": true
   },
   "outputs": [
    {
     "data": {
      "text/html": [
       "<div>\n",
       "<style scoped>\n",
       "    .dataframe tbody tr th:only-of-type {\n",
       "        vertical-align: middle;\n",
       "    }\n",
       "\n",
       "    .dataframe tbody tr th {\n",
       "        vertical-align: top;\n",
       "    }\n",
       "\n",
       "    .dataframe thead th {\n",
       "        text-align: right;\n",
       "    }\n",
       "</style>\n",
       "<table border=\"1\" class=\"dataframe\">\n",
       "  <thead>\n",
       "    <tr style=\"text-align: right;\">\n",
       "      <th></th>\n",
       "      <th>Smoking</th>\n",
       "      <th>Gender</th>\n",
       "      <th>Age</th>\n",
       "      <th>Martial Statues</th>\n",
       "      <th>Education Level</th>\n",
       "      <th>Weight</th>\n",
       "      <th>BMI</th>\n",
       "      <th>Height</th>\n",
       "      <th>Systolic Blood Preasure</th>\n",
       "    </tr>\n",
       "  </thead>\n",
       "  <tbody>\n",
       "    <tr>\n",
       "      <th>0</th>\n",
       "      <td>No</td>\n",
       "      <td>Female</td>\n",
       "      <td>62</td>\n",
       "      <td>1.0</td>\n",
       "      <td>UG</td>\n",
       "      <td>94.8</td>\n",
       "      <td>27.8</td>\n",
       "      <td>184.5</td>\n",
       "      <td>128.0</td>\n",
       "    </tr>\n",
       "    <tr>\n",
       "      <th>1</th>\n",
       "      <td>No</td>\n",
       "      <td>Female</td>\n",
       "      <td>53</td>\n",
       "      <td>3.0</td>\n",
       "      <td>10th Class</td>\n",
       "      <td>90.4</td>\n",
       "      <td>30.8</td>\n",
       "      <td>171.4</td>\n",
       "      <td>146.0</td>\n",
       "    </tr>\n",
       "  </tbody>\n",
       "</table>\n",
       "</div>"
      ],
      "text/plain": [
       "  Smoking  Gender  Age  Martial Statues Education Level  Weight   BMI  Height  \\\n",
       "0      No  Female   62              1.0              UG    94.8  27.8   184.5   \n",
       "1      No  Female   53              3.0      10th Class    90.4  30.8   171.4   \n",
       "\n",
       "   Systolic Blood Preasure  \n",
       "0                    128.0  \n",
       "1                    146.0  "
      ]
     },
     "execution_count": 26,
     "metadata": {},
     "output_type": "execute_result"
    }
   ],
   "source": [
    "eda.head(2)"
   ]
  },
  {
   "cell_type": "code",
   "execution_count": 27,
   "id": "8fa6a2ab-7709-45e3-b2ae-7097e8db6b62",
   "metadata": {
    "scrolled": true
   },
   "outputs": [
    {
     "data": {
      "text/plain": [
       "Martial Statues\n",
       "1.0     2780\n",
       "5.0     1004\n",
       "3.0      579\n",
       "6.0      527\n",
       "2.0      396\n",
       "4.0      186\n",
       "77.0       2\n",
       "Name: count, dtype: int64"
      ]
     },
     "execution_count": 27,
     "metadata": {},
     "output_type": "execute_result"
    }
   ],
   "source": [
    "eda['Martial Statues'].value_counts()"
   ]
  },
  {
   "cell_type": "code",
   "execution_count": 28,
   "id": "ba63023f-2483-422c-ba8c-0fb1cffa1c12",
   "metadata": {
    "scrolled": true
   },
   "outputs": [
    {
     "name": "stderr",
     "output_type": "stream",
     "text": [
      "C:\\Users\\ANIL KUMAR\\AppData\\Local\\Temp\\ipykernel_5548\\3854360041.py:1: FutureWarning: A value is trying to be set on a copy of a DataFrame or Series through chained assignment using an inplace method.\n",
      "The behavior will change in pandas 3.0. This inplace method will never work because the intermediate object on which we are setting values always behaves as a copy.\n",
      "\n",
      "For example, when doing 'df[col].method(value, inplace=True)', try using 'df.method({col: value}, inplace=True)' or df[col] = df[col].method(value) instead, to perform the operation inplace on the original object.\n",
      "\n",
      "\n",
      "  eda['Martial Statues'].replace({1: 'Unarried',2: 'Livin', 3: \"Divorced\", 4: \"Separated\", 5: \"Married\", 6: \"Divorced\", 77: 'Trans'},inplace=True)\n"
     ]
    }
   ],
   "source": [
    "eda['Martial Statues'].replace({1: 'Unarried',2: 'Livin', 3: \"Divorced\", 4: \"Separated\", 5: \"Married\", 6: \"Divorced\", 77: 'Trans'},inplace=True)"
   ]
  },
  {
   "cell_type": "code",
   "execution_count": 29,
   "id": "c44cc9e3-e867-408f-bdbc-d5bb168b6d1e",
   "metadata": {
    "scrolled": true
   },
   "outputs": [
    {
     "data": {
      "text/html": [
       "<div>\n",
       "<style scoped>\n",
       "    .dataframe tbody tr th:only-of-type {\n",
       "        vertical-align: middle;\n",
       "    }\n",
       "\n",
       "    .dataframe tbody tr th {\n",
       "        vertical-align: top;\n",
       "    }\n",
       "\n",
       "    .dataframe thead th {\n",
       "        text-align: right;\n",
       "    }\n",
       "</style>\n",
       "<table border=\"1\" class=\"dataframe\">\n",
       "  <thead>\n",
       "    <tr style=\"text-align: right;\">\n",
       "      <th></th>\n",
       "      <th>Smoking</th>\n",
       "      <th>Gender</th>\n",
       "      <th>Age</th>\n",
       "      <th>Martial Statues</th>\n",
       "      <th>Education Level</th>\n",
       "      <th>Weight</th>\n",
       "      <th>BMI</th>\n",
       "      <th>Height</th>\n",
       "      <th>Systolic Blood Preasure</th>\n",
       "    </tr>\n",
       "  </thead>\n",
       "  <tbody>\n",
       "    <tr>\n",
       "      <th>0</th>\n",
       "      <td>No</td>\n",
       "      <td>Female</td>\n",
       "      <td>62</td>\n",
       "      <td>Unarried</td>\n",
       "      <td>UG</td>\n",
       "      <td>94.8</td>\n",
       "      <td>27.8</td>\n",
       "      <td>184.5</td>\n",
       "      <td>128.0</td>\n",
       "    </tr>\n",
       "    <tr>\n",
       "      <th>1</th>\n",
       "      <td>No</td>\n",
       "      <td>Female</td>\n",
       "      <td>53</td>\n",
       "      <td>Divorced</td>\n",
       "      <td>10th Class</td>\n",
       "      <td>90.4</td>\n",
       "      <td>30.8</td>\n",
       "      <td>171.4</td>\n",
       "      <td>146.0</td>\n",
       "    </tr>\n",
       "    <tr>\n",
       "      <th>2</th>\n",
       "      <td>No</td>\n",
       "      <td>Female</td>\n",
       "      <td>78</td>\n",
       "      <td>Unarried</td>\n",
       "      <td>10th Class</td>\n",
       "      <td>83.4</td>\n",
       "      <td>28.8</td>\n",
       "      <td>170.1</td>\n",
       "      <td>138.0</td>\n",
       "    </tr>\n",
       "  </tbody>\n",
       "</table>\n",
       "</div>"
      ],
      "text/plain": [
       "  Smoking  Gender  Age Martial Statues Education Level  Weight   BMI  Height  \\\n",
       "0      No  Female   62        Unarried              UG    94.8  27.8   184.5   \n",
       "1      No  Female   53        Divorced      10th Class    90.4  30.8   171.4   \n",
       "2      No  Female   78        Unarried      10th Class    83.4  28.8   170.1   \n",
       "\n",
       "   Systolic Blood Preasure  \n",
       "0                    128.0  \n",
       "1                    146.0  \n",
       "2                    138.0  "
      ]
     },
     "execution_count": 29,
     "metadata": {},
     "output_type": "execute_result"
    }
   ],
   "source": [
    "eda.head(3)"
   ]
  },
  {
   "cell_type": "code",
   "execution_count": 30,
   "id": "4afbaebe-ca77-4ef8-8ed2-4f7531c6e4c3",
   "metadata": {},
   "outputs": [
    {
     "data": {
      "text/plain": [
       "0"
      ]
     },
     "execution_count": 30,
     "metadata": {},
     "output_type": "execute_result"
    }
   ],
   "source": [
    "eda.duplicated().sum()"
   ]
  },
  {
   "cell_type": "code",
   "execution_count": 31,
   "id": "7b1883ac-9110-4955-88ac-21b19fdc5794",
   "metadata": {},
   "outputs": [
    {
     "data": {
      "text/plain": [
       "0    Unarried\n",
       "Name: Martial Statues, dtype: object"
      ]
     },
     "execution_count": 31,
     "metadata": {},
     "output_type": "execute_result"
    }
   ],
   "source": [
    "eda['Martial Statues'].mode()"
   ]
  },
  {
   "cell_type": "code",
   "execution_count": 32,
   "id": "b20c7a81-0632-4484-bf7e-52749403f39e",
   "metadata": {},
   "outputs": [],
   "source": [
    "eda['Martial Statues'] = eda['Martial Statues'].fillna(eda['Martial Statues'].mode()[0])"
   ]
  },
  {
   "cell_type": "code",
   "execution_count": 33,
   "id": "3a04fb23-627e-4be3-b43a-69ad9cb09469",
   "metadata": {
    "scrolled": true
   },
   "outputs": [
    {
     "data": {
      "text/plain": [
       "Smoking                      0\n",
       "Gender                       0\n",
       "Age                          0\n",
       "Martial Statues              0\n",
       "Education Level            261\n",
       "Weight                      69\n",
       "BMI                         73\n",
       "Height                      62\n",
       "Systolic Blood Preasure    334\n",
       "dtype: int64"
      ]
     },
     "execution_count": 33,
     "metadata": {},
     "output_type": "execute_result"
    }
   ],
   "source": [
    "eda.isna().sum()"
   ]
  },
  {
   "cell_type": "code",
   "execution_count": 34,
   "id": "e6e1ed6b-5e97-4587-bb20-69729db28e44",
   "metadata": {},
   "outputs": [
    {
     "data": {
      "text/plain": [
       "0    Inter\n",
       "Name: Education Level, dtype: object"
      ]
     },
     "execution_count": 34,
     "metadata": {},
     "output_type": "execute_result"
    }
   ],
   "source": [
    "eda['Education Level'].mode()"
   ]
  },
  {
   "cell_type": "code",
   "execution_count": 35,
   "id": "8dba74d0-b7fa-4db5-af54-6c80a764059f",
   "metadata": {},
   "outputs": [
    {
     "name": "stderr",
     "output_type": "stream",
     "text": [
      "C:\\Users\\ANIL KUMAR\\AppData\\Local\\Temp\\ipykernel_5548\\4021870714.py:1: FutureWarning: A value is trying to be set on a copy of a DataFrame or Series through chained assignment using an inplace method.\n",
      "The behavior will change in pandas 3.0. This inplace method will never work because the intermediate object on which we are setting values always behaves as a copy.\n",
      "\n",
      "For example, when doing 'df[col].method(value, inplace=True)', try using 'df.method({col: value}, inplace=True)' or df[col] = df[col].method(value) instead, to perform the operation inplace on the original object.\n",
      "\n",
      "\n",
      "  eda['Education Level'].fillna('Inter',inplace=True)\n"
     ]
    }
   ],
   "source": [
    "eda['Education Level'].fillna('Inter',inplace=True)"
   ]
  },
  {
   "cell_type": "code",
   "execution_count": 36,
   "id": "f9ff59d0-b8f6-47b8-8983-8f219570ff51",
   "metadata": {},
   "outputs": [
    {
     "data": {
      "text/html": [
       "<div>\n",
       "<style scoped>\n",
       "    .dataframe tbody tr th:only-of-type {\n",
       "        vertical-align: middle;\n",
       "    }\n",
       "\n",
       "    .dataframe tbody tr th {\n",
       "        vertical-align: top;\n",
       "    }\n",
       "\n",
       "    .dataframe thead th {\n",
       "        text-align: right;\n",
       "    }\n",
       "</style>\n",
       "<table border=\"1\" class=\"dataframe\">\n",
       "  <thead>\n",
       "    <tr style=\"text-align: right;\">\n",
       "      <th></th>\n",
       "      <th>Smoking</th>\n",
       "      <th>Gender</th>\n",
       "      <th>Age</th>\n",
       "      <th>Martial Statues</th>\n",
       "      <th>Education Level</th>\n",
       "      <th>Weight</th>\n",
       "      <th>BMI</th>\n",
       "      <th>Height</th>\n",
       "      <th>Systolic Blood Preasure</th>\n",
       "    </tr>\n",
       "  </thead>\n",
       "  <tbody>\n",
       "  </tbody>\n",
       "</table>\n",
       "</div>"
      ],
      "text/plain": [
       "Empty DataFrame\n",
       "Columns: [Smoking, Gender, Age, Martial Statues, Education Level, Weight, BMI, Height, Systolic Blood Preasure]\n",
       "Index: []"
      ]
     },
     "execution_count": 36,
     "metadata": {},
     "output_type": "execute_result"
    }
   ],
   "source": [
    "eda[eda['Education Level'].isna()]"
   ]
  },
  {
   "cell_type": "code",
   "execution_count": 37,
   "id": "372db67a-5bfb-4dad-913c-f2b80bda18f2",
   "metadata": {
    "scrolled": true
   },
   "outputs": [
    {
     "data": {
      "text/plain": [
       "Smoking                      0\n",
       "Gender                       0\n",
       "Age                          0\n",
       "Martial Statues              0\n",
       "Education Level              0\n",
       "Weight                      69\n",
       "BMI                         73\n",
       "Height                      62\n",
       "Systolic Blood Preasure    334\n",
       "dtype: int64"
      ]
     },
     "execution_count": 37,
     "metadata": {},
     "output_type": "execute_result"
    }
   ],
   "source": [
    "eda.isna().sum()"
   ]
  },
  {
   "cell_type": "code",
   "execution_count": 38,
   "id": "4bb89c76-8c4b-4539-ad17-700610bd0fbc",
   "metadata": {
    "scrolled": true
   },
   "outputs": [
    {
     "data": {
      "text/plain": [
       "Weight                      78.2\n",
       "BMI                         28.3\n",
       "Height                     166.0\n",
       "Systolic Blood Preasure    122.0\n",
       "dtype: float64"
      ]
     },
     "execution_count": 38,
     "metadata": {},
     "output_type": "execute_result"
    }
   ],
   "source": [
    "eda[['Weight','BMI','Height','Systolic Blood Preasure']].median()"
   ]
  },
  {
   "cell_type": "code",
   "execution_count": 39,
   "id": "fc650035-785b-4a0c-9316-bb4db972f29d",
   "metadata": {},
   "outputs": [],
   "source": [
    "eda[['Weight','BMI','Height','Systolic Blood Preasure']] = eda[['Weight','BMI','Height','Systolic Blood Preasure']].fillna(\n",
    "    eda[['Weight','BMI','Height','Systolic Blood Preasure']].median()\n",
    ")"
   ]
  },
  {
   "cell_type": "code",
   "execution_count": 40,
   "id": "7941c88e-9080-4c1d-a1fe-1f467cfd5769",
   "metadata": {
    "scrolled": true
   },
   "outputs": [
    {
     "data": {
      "text/plain": [
       "Smoking                    0\n",
       "Gender                     0\n",
       "Age                        0\n",
       "Martial Statues            0\n",
       "Education Level            0\n",
       "Weight                     0\n",
       "BMI                        0\n",
       "Height                     0\n",
       "Systolic Blood Preasure    0\n",
       "dtype: int64"
      ]
     },
     "execution_count": 40,
     "metadata": {},
     "output_type": "execute_result"
    }
   ],
   "source": [
    "eda.isna().sum()"
   ]
  },
  {
   "cell_type": "code",
   "execution_count": 41,
   "id": "9bf0f6e8-402b-4bb1-a759-130cac2b2d2c",
   "metadata": {
    "scrolled": true
   },
   "outputs": [
    {
     "data": {
      "image/png": "[encoded data removed]",
      "text/plain": [
       "<Figure size 1000x800 with 4 Axes>"
      ]
     },
     "metadata": {},
     "output_type": "display_data"
    }
   ],
   "source": [
    "# Create histogram for quantitative variables\n",
    "fig, axs = plt.subplots(2,2, figsize=(10, 8))\n",
    "      \n",
    "sns.histplot(data= eda, x=\"Age\", kde=True, color=\"red\", ax=axs[0,0])\n",
    "sns.histplot(data= eda, x=\"Weight\", kde=True, color=\"skyblue\", ax=axs[0,1])\n",
    "sns.histplot(data= eda, x=\"Height\", kde=True, color=\"olive\", ax=axs[1,0])\n",
    "sns.histplot(data= eda, x=\"BMI\", kde=True, color=\"gold\", ax=axs[1,1])\n",
    "\n",
    "plt.show()"
   ]
  },
  {
   "cell_type": "markdown",
   "id": "20cd2690-8306-48da-b621-7f94c1637744",
   "metadata": {},
   "source": [
    "# Outliers"
   ]
  },
  {
   "cell_type": "code",
   "execution_count": 43,
   "id": "66efdd79-d9ea-42d3-85a5-568cecdc78b0",
   "metadata": {},
   "outputs": [
    {
     "name": "stdout",
     "output_type": "stream",
     "text": [
      "18\n",
      "80\n"
     ]
    }
   ],
   "source": [
    "print(eda['Age'].min())\n",
    "print(eda['Age'].max())"
   ]
  },
  {
   "cell_type": "code",
   "execution_count": 44,
   "id": "17a06aaf-368c-4f84-91a5-38758ad4c0a5",
   "metadata": {},
   "outputs": [
    {
     "name": "stdout",
     "output_type": "stream",
     "text": [
      "32.4\n",
      "198.9\n"
     ]
    }
   ],
   "source": [
    "print(eda['Weight'].min())\n",
    "print(eda['Weight'].max())"
   ]
  },
  {
   "cell_type": "code",
   "execution_count": 45,
   "id": "8fcf94b1-54e9-47c4-adfc-858f596f3845",
   "metadata": {},
   "outputs": [
    {
     "name": "stdout",
     "output_type": "stream",
     "text": [
      "45.568000000000005\n",
      "147.56599999999997\n"
     ]
    }
   ],
   "source": [
    "print(eda['Weight'].quantile(0.01))\n",
    "print(eda['Weight'].quantile(0.99))"
   ]
  },
  {
   "cell_type": "code",
   "execution_count": 93,
   "id": "439e5d53-8d3c-43ab-bbc1-befb5ea7ebc6",
   "metadata": {},
   "outputs": [
    {
     "name": "stderr",
     "output_type": "stream",
     "text": [
      "C:\\Users\\ANIL KUMAR\\AppData\\Local\\Temp\\ipykernel_5548\\1408074423.py:1: FutureWarning: A value is trying to be set on a copy of a DataFrame or Series through chained assignment using an inplace method.\n",
      "The behavior will change in pandas 3.0. This inplace method will never work because the intermediate object on which we are setting values always behaves as a copy.\n",
      "\n",
      "For example, when doing 'df[col].method(value, inplace=True)', try using 'df.method({col: value}, inplace=True)' or df[col] = df[col].method(value) instead, to perform the operation inplace on the original object.\n",
      "\n",
      "\n",
      "  eda['Weight'].clip(lower=eda['Weight'].quantile(0.01), upper=eda['Weight'].quantile(0.99), inplace=True)\n"
     ]
    }
   ],
   "source": [
    "eda['Weight'].clip(lower=eda['Weight'].quantile(0.01), upper=eda['Weight'].quantile(0.99), inplace=True)"
   ]
  },
  {
   "cell_type": "code",
   "execution_count": 95,
   "id": "be749e56-e2ba-42fa-8fbe-f60230ea489b",
   "metadata": {
    "scrolled": true
   },
   "outputs": [
    {
     "data": {
      "image/png": "[encoded data removed]",
      "text/plain": [
       "<Figure size 500x500 with 1 Axes>"
      ]
     },
     "metadata": {},
     "output_type": "display_data"
    }
   ],
   "source": [
    "sns.displot(data=eda, x=eda['Weight'], kde = True)\n",
    "plt.show()"
   ]
  },
  {
   "cell_type": "code",
   "execution_count": null,
   "id": "0d7df8d9-868f-4b60-b308-5730dc1333d7",
   "metadata": {},
   "outputs": [],
   "source": []
  }
 ],
 "metadata": {
  "kernelspec": {
   "display_name": "Python [conda env:base] *",
   "language": "python",
   "name": "conda-base-py"
  },
  "language_info": {
   "codemirror_mode": {
    "name": "ipython",
    "version": 3
   },
   "file_extension": ".py",
   "mimetype": "text/x-python",
   "name": "python",
   "nbconvert_exporter": "python",
   "pygments_lexer": "ipython3",
   "version": "3.12.7"
  }
 },
 "nbformat": 4,
 "nbformat_minor": 5
}
